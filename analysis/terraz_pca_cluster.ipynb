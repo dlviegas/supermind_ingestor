{
 "cells": [
  {
   "cell_type": "code",
   "execution_count": 15,
   "id": "initial_id",
   "metadata": {
    "collapsed": true,
    "jupyter": {
     "outputs_hidden": true
    },
    "ExecuteTime": {
     "end_time": "2023-11-06T13:42:35.278171454Z",
     "start_time": "2023-11-06T13:42:35.066552824Z"
    }
   },
   "outputs": [],
   "source": [
    "import pandas as pd\n",
    "import numpy as np\n",
    "from sklearn.preprocessing import StandardScaler, OneHotEncoder\n",
    "from sklearn.cluster import KMeans\n",
    "from sklearn.decomposition import PCA\n",
    "from sklearn.pipeline import Pipeline\n",
    "import matplotlib.pyplot as plt\n",
    "import seaborn as sns\n",
    "\n",
    "sns.set()"
   ]
  },
  {
   "cell_type": "code",
   "execution_count": 16,
   "id": "b2047f2241a38b48",
   "metadata": {
    "collapsed": false,
    "ExecuteTime": {
     "end_time": "2023-11-06T13:42:37.327722763Z",
     "start_time": "2023-11-06T13:42:35.109202147Z"
    }
   },
   "outputs": [
    {
     "name": "stderr",
     "output_type": "stream",
     "text": [
      "/tmp/ipykernel_9618/1301142846.py:1: DtypeWarning: Columns (47,62) have mixed types. Specify dtype option on import or set low_memory=False.\n",
      "  df_leads = pd.read_csv('../data/terraz/processed_leads/leads.csv').\\\n"
     ]
    },
    {
     "data": {
      "text/plain": "(171166, 62)"
     },
     "execution_count": 16,
     "metadata": {},
     "output_type": "execute_result"
    }
   ],
   "source": [
    "df_leads = pd.read_csv('../data/terraz/processed_leads/leads.csv').\\\n",
    "    drop('Criado', axis=1)\n",
    "df_leads.shape"
   ]
  },
  {
   "cell_type": "code",
   "execution_count": 17,
   "id": "4d531cecc6a30e04",
   "metadata": {
    "collapsed": false,
    "ExecuteTime": {
     "end_time": "2023-11-06T13:42:37.328016162Z",
     "start_time": "2023-11-06T13:42:37.235091184Z"
    }
   },
   "outputs": [],
   "source": [
    "def treat_etapa(string):\n",
    "    if string in ['Lead Duplicado', 'Lead Visita Duplicado', 'Lead Frio']:\n",
    "        return 'Lead'\n",
    "    elif 'BOT' in string:\n",
    "        return 'Bot'\n",
    "    else:\n",
    "        return string\n",
    "\n",
    "def treat_fonte(string):\n",
    "    if string in ['Imovelweb', 'Grupo Zap', 'OLX', 'Mercado Livre', 'Facebook', 'Instagram', 'Google']:\n",
    "        return 'Webpage'\n",
    "    else:\n",
    "        return 'Brognoli_init'\n",
    "\n",
    "def treat_created(string):\n",
    "    if 'Bot' in string or 'Brognoli' in string:\n",
    "        return 'Bot'\n",
    "    else:\n",
    "        return 'Humano'\n",
    "\n",
    "def treat_categ(string):\n",
    "    if string in ['Apartamento', 'Kitnet', 'Casa', 'Cobertura', 'Loft', 'Terreno Residencial', 'Sobrado Residencial', 'Casa em condomónio', 'Chalé', 'Sítio']:\n",
    "        return 'Moradia'\n",
    "    elif string == 'Missing':\n",
    "        return string\n",
    "    else:\n",
    "        return 'Comercial'\n",
    "    "
   ]
  },
  {
   "cell_type": "code",
   "execution_count": 18,
   "id": "d19eb56d93db503",
   "metadata": {
    "collapsed": false,
    "ExecuteTime": {
     "end_time": "2023-11-06T13:42:37.614788763Z",
     "start_time": "2023-11-06T13:42:37.240184088Z"
    }
   },
   "outputs": [
    {
     "data": {
      "text/plain": "array(['Moradia', 'Missing', 'Comercial'], dtype=object)"
     },
     "execution_count": 18,
     "metadata": {},
     "output_type": "execute_result"
    }
   ],
   "source": [
    "df_leads['Etapa'] = df_leads['Etapa'].apply(lambda x: treat_etapa(x))\n",
    "df_leads['Fonte'] = df_leads['Fonte'].apply(lambda x: treat_fonte(x))\n",
    "df_leads['Criado por'] = df_leads['Criado por'].apply(lambda x: treat_created(x))\n",
    "df_leads['Categoria Imovel'] = df_leads['Categoria Imovel'].apply(lambda x: treat_categ(x))\n",
    "df_leads['Categoria Imovel'].unique()"
   ]
  },
  {
   "cell_type": "code",
   "execution_count": 19,
   "id": "e56a569dcf9fda2a",
   "metadata": {
    "collapsed": false,
    "ExecuteTime": {
     "end_time": "2023-11-06T13:42:37.816783210Z",
     "start_time": "2023-11-06T13:42:37.501118395Z"
    }
   },
   "outputs": [],
   "source": [
    "df_etapa = pd.get_dummies(df_leads['Etapa'], dtype='int')\n",
    "df_fonte = pd.get_dummies(df_leads['Fonte'], dtype='int')\n",
    "# df_resp = pd.get_dummies(df_leads['Responsável'], dtype='int')\n",
    "df_criado = pd.get_dummies(df_leads['Criado por'], dtype='int')\n",
    "df_canal = pd.get_dummies(df_leads['Canal'], dtype='int')\n",
    "df_imob = pd.get_dummies(df_leads['Imobiliária: Geradora do lead'], dtype='int')\n",
    "df_categ = pd.get_dummies(df_leads['Categoria Imovel'], dtype='int')\n",
    "df_season = pd.get_dummies(df_leads['season'], dtype='int')\n",
    "usable_cols = ['Email de trabalho',  'CPF do locatário', 'Etapa', 'criado_dias', 'dia_da_semana',\n",
    "               'Fonte', 'Responsável', 'Criado por', 'Total', 'Canal', 'dia', 'mes', 'ano',\n",
    "               'Imobiliária: Geradora do lead', 'Categoria Imovel', 'visited', 'desistiu', 'cep3',\n",
    "               'season', 'hora_visita', 'minuto_visita']\n",
    "df_model = pd.concat([df_leads[usable_cols], df_etapa, df_fonte, df_criado, df_canal, df_imob, df_categ, df_season], axis=1)\n",
    "df_leads = pd.concat([df_leads, df_etapa, df_fonte, df_criado, df_canal, df_imob, df_categ, df_season], axis=1)\n",
    "# df_model['cep3'] = df_model['cep3'].astype('int', errors='ignore')"
   ]
  },
  {
   "cell_type": "code",
   "execution_count": 20,
   "id": "ea500af71710bb53",
   "metadata": {
    "collapsed": false,
    "ExecuteTime": {
     "end_time": "2023-11-06T13:42:37.911529433Z",
     "start_time": "2023-11-06T13:42:37.817782777Z"
    }
   },
   "outputs": [],
   "source": [
    "encoded = ['Etapa', 'Fonte', 'Responsável', 'Criado por', 'Canal', 'Imobiliária: Geradora do lead', 'Categoria Imovel', 'season', 'cep3']"
   ]
  },
  {
   "cell_type": "code",
   "execution_count": 21,
   "id": "20902fb721c654ee",
   "metadata": {
    "collapsed": false,
    "ExecuteTime": {
     "end_time": "2023-11-06T13:42:37.915122761Z",
     "start_time": "2023-11-06T13:42:37.822087999Z"
    }
   },
   "outputs": [],
   "source": [
    "df_model.drop(encoded, axis=1, inplace=True)"
   ]
  },
  {
   "cell_type": "code",
   "execution_count": 22,
   "id": "a1ff0d14cc9dd942",
   "metadata": {
    "collapsed": false,
    "ExecuteTime": {
     "end_time": "2023-11-06T13:42:37.978465004Z",
     "start_time": "2023-11-06T13:42:37.897316587Z"
    }
   },
   "outputs": [
    {
     "data": {
      "text/plain": "              Email de trabalho CPF do locatário  criado_dias  dia_da_semana  \\\n0                           NaN   450.439.098-11          638              4   \n1   ferrari.fernandal@gmail.com              NaN          638              4   \n2   ferrari.fernandal@gmail.com              NaN          638              4   \n3            rah.rc26@gmail.com   023.674.790-89          638              4   \n4  vivianepacheco0109@gmail.com   090.572.379-11          638              4   \n\n    Total  dia  mes   ano  visited  desistiu  ...  Woliver  Brognoli  Terraz  \\\n0  1500.0   31   12  2021        0         1  ...        0         0       1   \n1  1900.0   31   12  2021        1         1  ...        0         1       0   \n2  1900.0   31   12  2021        1         0  ...        0         1       0   \n3  1600.0   31   12  2021        0         1  ...        0         0       1   \n4  1450.0   31   12  2021        0         1  ...        0         1       0   \n\n   Comercial  Missing  Moradia  Autumn  Spring  Summer  Winter  \n0          0        0        1       0       0       0       1  \n1          0        1        0       0       0       0       1  \n2          0        1        0       0       0       0       1  \n3          0        0        1       0       0       0       1  \n4          0        0        1       0       0       0       1  \n\n[5 rows x 36 columns]",
      "text/html": "<div>\n<style scoped>\n    .dataframe tbody tr th:only-of-type {\n        vertical-align: middle;\n    }\n\n    .dataframe tbody tr th {\n        vertical-align: top;\n    }\n\n    .dataframe thead th {\n        text-align: right;\n    }\n</style>\n<table border=\"1\" class=\"dataframe\">\n  <thead>\n    <tr style=\"text-align: right;\">\n      <th></th>\n      <th>Email de trabalho</th>\n      <th>CPF do locatário</th>\n      <th>criado_dias</th>\n      <th>dia_da_semana</th>\n      <th>Total</th>\n      <th>dia</th>\n      <th>mes</th>\n      <th>ano</th>\n      <th>visited</th>\n      <th>desistiu</th>\n      <th>...</th>\n      <th>Woliver</th>\n      <th>Brognoli</th>\n      <th>Terraz</th>\n      <th>Comercial</th>\n      <th>Missing</th>\n      <th>Moradia</th>\n      <th>Autumn</th>\n      <th>Spring</th>\n      <th>Summer</th>\n      <th>Winter</th>\n    </tr>\n  </thead>\n  <tbody>\n    <tr>\n      <th>0</th>\n      <td>NaN</td>\n      <td>450.439.098-11</td>\n      <td>638</td>\n      <td>4</td>\n      <td>1500.0</td>\n      <td>31</td>\n      <td>12</td>\n      <td>2021</td>\n      <td>0</td>\n      <td>1</td>\n      <td>...</td>\n      <td>0</td>\n      <td>0</td>\n      <td>1</td>\n      <td>0</td>\n      <td>0</td>\n      <td>1</td>\n      <td>0</td>\n      <td>0</td>\n      <td>0</td>\n      <td>1</td>\n    </tr>\n    <tr>\n      <th>1</th>\n      <td>ferrari.fernandal@gmail.com</td>\n      <td>NaN</td>\n      <td>638</td>\n      <td>4</td>\n      <td>1900.0</td>\n      <td>31</td>\n      <td>12</td>\n      <td>2021</td>\n      <td>1</td>\n      <td>1</td>\n      <td>...</td>\n      <td>0</td>\n      <td>1</td>\n      <td>0</td>\n      <td>0</td>\n      <td>1</td>\n      <td>0</td>\n      <td>0</td>\n      <td>0</td>\n      <td>0</td>\n      <td>1</td>\n    </tr>\n    <tr>\n      <th>2</th>\n      <td>ferrari.fernandal@gmail.com</td>\n      <td>NaN</td>\n      <td>638</td>\n      <td>4</td>\n      <td>1900.0</td>\n      <td>31</td>\n      <td>12</td>\n      <td>2021</td>\n      <td>1</td>\n      <td>0</td>\n      <td>...</td>\n      <td>0</td>\n      <td>1</td>\n      <td>0</td>\n      <td>0</td>\n      <td>1</td>\n      <td>0</td>\n      <td>0</td>\n      <td>0</td>\n      <td>0</td>\n      <td>1</td>\n    </tr>\n    <tr>\n      <th>3</th>\n      <td>rah.rc26@gmail.com</td>\n      <td>023.674.790-89</td>\n      <td>638</td>\n      <td>4</td>\n      <td>1600.0</td>\n      <td>31</td>\n      <td>12</td>\n      <td>2021</td>\n      <td>0</td>\n      <td>1</td>\n      <td>...</td>\n      <td>0</td>\n      <td>0</td>\n      <td>1</td>\n      <td>0</td>\n      <td>0</td>\n      <td>1</td>\n      <td>0</td>\n      <td>0</td>\n      <td>0</td>\n      <td>1</td>\n    </tr>\n    <tr>\n      <th>4</th>\n      <td>vivianepacheco0109@gmail.com</td>\n      <td>090.572.379-11</td>\n      <td>638</td>\n      <td>4</td>\n      <td>1450.0</td>\n      <td>31</td>\n      <td>12</td>\n      <td>2021</td>\n      <td>0</td>\n      <td>1</td>\n      <td>...</td>\n      <td>0</td>\n      <td>1</td>\n      <td>0</td>\n      <td>0</td>\n      <td>0</td>\n      <td>1</td>\n      <td>0</td>\n      <td>0</td>\n      <td>0</td>\n      <td>1</td>\n    </tr>\n  </tbody>\n</table>\n<p>5 rows × 36 columns</p>\n</div>"
     },
     "execution_count": 22,
     "metadata": {},
     "output_type": "execute_result"
    }
   ],
   "source": [
    "df_model.head()"
   ]
  },
  {
   "cell_type": "code",
   "execution_count": 23,
   "id": "823760e2fd417cd8",
   "metadata": {
    "collapsed": false,
    "ExecuteTime": {
     "end_time": "2023-11-06T13:42:38.560377554Z",
     "start_time": "2023-11-06T13:42:37.965830638Z"
    }
   },
   "outputs": [
    {
     "data": {
      "text/plain": "PCA()",
      "text/html": "<style>#sk-container-id-1 {color: black;}#sk-container-id-1 pre{padding: 0;}#sk-container-id-1 div.sk-toggleable {background-color: white;}#sk-container-id-1 label.sk-toggleable__label {cursor: pointer;display: block;width: 100%;margin-bottom: 0;padding: 0.3em;box-sizing: border-box;text-align: center;}#sk-container-id-1 label.sk-toggleable__label-arrow:before {content: \"▸\";float: left;margin-right: 0.25em;color: #696969;}#sk-container-id-1 label.sk-toggleable__label-arrow:hover:before {color: black;}#sk-container-id-1 div.sk-estimator:hover label.sk-toggleable__label-arrow:before {color: black;}#sk-container-id-1 div.sk-toggleable__content {max-height: 0;max-width: 0;overflow: hidden;text-align: left;background-color: #f0f8ff;}#sk-container-id-1 div.sk-toggleable__content pre {margin: 0.2em;color: black;border-radius: 0.25em;background-color: #f0f8ff;}#sk-container-id-1 input.sk-toggleable__control:checked~div.sk-toggleable__content {max-height: 200px;max-width: 100%;overflow: auto;}#sk-container-id-1 input.sk-toggleable__control:checked~label.sk-toggleable__label-arrow:before {content: \"▾\";}#sk-container-id-1 div.sk-estimator input.sk-toggleable__control:checked~label.sk-toggleable__label {background-color: #d4ebff;}#sk-container-id-1 div.sk-label input.sk-toggleable__control:checked~label.sk-toggleable__label {background-color: #d4ebff;}#sk-container-id-1 input.sk-hidden--visually {border: 0;clip: rect(1px 1px 1px 1px);clip: rect(1px, 1px, 1px, 1px);height: 1px;margin: -1px;overflow: hidden;padding: 0;position: absolute;width: 1px;}#sk-container-id-1 div.sk-estimator {font-family: monospace;background-color: #f0f8ff;border: 1px dotted black;border-radius: 0.25em;box-sizing: border-box;margin-bottom: 0.5em;}#sk-container-id-1 div.sk-estimator:hover {background-color: #d4ebff;}#sk-container-id-1 div.sk-parallel-item::after {content: \"\";width: 100%;border-bottom: 1px solid gray;flex-grow: 1;}#sk-container-id-1 div.sk-label:hover label.sk-toggleable__label {background-color: #d4ebff;}#sk-container-id-1 div.sk-serial::before {content: \"\";position: absolute;border-left: 1px solid gray;box-sizing: border-box;top: 0;bottom: 0;left: 50%;z-index: 0;}#sk-container-id-1 div.sk-serial {display: flex;flex-direction: column;align-items: center;background-color: white;padding-right: 0.2em;padding-left: 0.2em;position: relative;}#sk-container-id-1 div.sk-item {position: relative;z-index: 1;}#sk-container-id-1 div.sk-parallel {display: flex;align-items: stretch;justify-content: center;background-color: white;position: relative;}#sk-container-id-1 div.sk-item::before, #sk-container-id-1 div.sk-parallel-item::before {content: \"\";position: absolute;border-left: 1px solid gray;box-sizing: border-box;top: 0;bottom: 0;left: 50%;z-index: -1;}#sk-container-id-1 div.sk-parallel-item {display: flex;flex-direction: column;z-index: 1;position: relative;background-color: white;}#sk-container-id-1 div.sk-parallel-item:first-child::after {align-self: flex-end;width: 50%;}#sk-container-id-1 div.sk-parallel-item:last-child::after {align-self: flex-start;width: 50%;}#sk-container-id-1 div.sk-parallel-item:only-child::after {width: 0;}#sk-container-id-1 div.sk-dashed-wrapped {border: 1px dashed gray;margin: 0 0.4em 0.5em 0.4em;box-sizing: border-box;padding-bottom: 0.4em;background-color: white;}#sk-container-id-1 div.sk-label label {font-family: monospace;font-weight: bold;display: inline-block;line-height: 1.2em;}#sk-container-id-1 div.sk-label-container {text-align: center;}#sk-container-id-1 div.sk-container {/* jupyter's `normalize.less` sets `[hidden] { display: none; }` but bootstrap.min.css set `[hidden] { display: none !important; }` so we also need the `!important` here to be able to override the default hidden behavior on the sphinx rendered scikit-learn.org. See: https://github.com/scikit-learn/scikit-learn/issues/21755 */display: inline-block !important;position: relative;}#sk-container-id-1 div.sk-text-repr-fallback {display: none;}</style><div id=\"sk-container-id-1\" class=\"sk-top-container\"><div class=\"sk-text-repr-fallback\"><pre>PCA()</pre><b>In a Jupyter environment, please rerun this cell to show the HTML representation or trust the notebook. <br />On GitHub, the HTML representation is unable to render, please try loading this page with nbviewer.org.</b></div><div class=\"sk-container\" hidden><div class=\"sk-item\"><div class=\"sk-estimator sk-toggleable\"><input class=\"sk-toggleable__control sk-hidden--visually\" id=\"sk-estimator-id-1\" type=\"checkbox\" checked><label for=\"sk-estimator-id-1\" class=\"sk-toggleable__label sk-toggleable__label-arrow\">PCA</label><div class=\"sk-toggleable__content\"><pre>PCA()</pre></div></div></div></div></div>"
     },
     "execution_count": 23,
     "metadata": {},
     "output_type": "execute_result"
    }
   ],
   "source": [
    "pca = PCA()\n",
    "pca.fit(df_model.drop(['Email de trabalho',  'CPF do locatário'], axis=1))"
   ]
  },
  {
   "cell_type": "code",
   "execution_count": 24,
   "id": "84c2f171783c0ff8",
   "metadata": {
    "collapsed": false,
    "ExecuteTime": {
     "end_time": "2023-11-06T13:42:38.580513647Z",
     "start_time": "2023-11-06T13:42:38.558930780Z"
    }
   },
   "outputs": [
    {
     "data": {
      "text/plain": "34"
     },
     "execution_count": 24,
     "metadata": {},
     "output_type": "execute_result"
    }
   ],
   "source": [
    "len(np.round(pca.explained_variance_ratio_, 2))"
   ]
  },
  {
   "cell_type": "code",
   "execution_count": 25,
   "id": "4a6a041b5e49dc60",
   "metadata": {
    "collapsed": false,
    "ExecuteTime": {
     "end_time": "2023-11-06T13:42:39.288503577Z",
     "start_time": "2023-11-06T13:42:38.566491357Z"
    }
   },
   "outputs": [
    {
     "data": {
      "text/plain": "[<matplotlib.lines.Line2D at 0x7fa0a014ab60>]"
     },
     "execution_count": 25,
     "metadata": {},
     "output_type": "execute_result"
    },
    {
     "data": {
      "text/plain": "<Figure size 1000x800 with 1 Axes>",
      "image/png": "[encoded data removed]"
     },
     "metadata": {},
     "output_type": "display_data"
    }
   ],
   "source": [
    "plt.figure(figsize=(10,8))\n",
    "plt.plot(range(1, len(pca.explained_variance_ratio_)+1), pca.explained_variance_ratio_, marker='o')"
   ]
  },
  {
   "cell_type": "code",
   "execution_count": 26,
   "id": "599289850813ffaf",
   "metadata": {
    "collapsed": false,
    "ExecuteTime": {
     "end_time": "2023-11-06T13:43:00.839051823Z",
     "start_time": "2023-11-06T13:42:39.260533145Z"
    }
   },
   "outputs": [
    {
     "name": "stderr",
     "output_type": "stream",
     "text": [
      "/home/danielviegas/PycharmProjects/supermind_ingestor/venv/lib/python3.10/site-packages/sklearn/cluster/_kmeans.py:1416: FutureWarning: The default value of `n_init` will change from 10 to 'auto' in 1.4. Set the value of `n_init` explicitly to suppress the warning\n",
      "  super()._check_params_vs_input(X, default_n_init=10)\n",
      "/home/danielviegas/PycharmProjects/supermind_ingestor/venv/lib/python3.10/site-packages/sklearn/cluster/_kmeans.py:1416: FutureWarning: The default value of `n_init` will change from 10 to 'auto' in 1.4. Set the value of `n_init` explicitly to suppress the warning\n",
      "  super()._check_params_vs_input(X, default_n_init=10)\n",
      "/home/danielviegas/PycharmProjects/supermind_ingestor/venv/lib/python3.10/site-packages/sklearn/cluster/_kmeans.py:1416: FutureWarning: The default value of `n_init` will change from 10 to 'auto' in 1.4. Set the value of `n_init` explicitly to suppress the warning\n",
      "  super()._check_params_vs_input(X, default_n_init=10)\n",
      "/home/danielviegas/PycharmProjects/supermind_ingestor/venv/lib/python3.10/site-packages/sklearn/cluster/_kmeans.py:1416: FutureWarning: The default value of `n_init` will change from 10 to 'auto' in 1.4. Set the value of `n_init` explicitly to suppress the warning\n",
      "  super()._check_params_vs_input(X, default_n_init=10)\n",
      "/home/danielviegas/PycharmProjects/supermind_ingestor/venv/lib/python3.10/site-packages/sklearn/cluster/_kmeans.py:1416: FutureWarning: The default value of `n_init` will change from 10 to 'auto' in 1.4. Set the value of `n_init` explicitly to suppress the warning\n",
      "  super()._check_params_vs_input(X, default_n_init=10)\n",
      "/home/danielviegas/PycharmProjects/supermind_ingestor/venv/lib/python3.10/site-packages/sklearn/cluster/_kmeans.py:1416: FutureWarning: The default value of `n_init` will change from 10 to 'auto' in 1.4. Set the value of `n_init` explicitly to suppress the warning\n",
      "  super()._check_params_vs_input(X, default_n_init=10)\n",
      "/home/danielviegas/PycharmProjects/supermind_ingestor/venv/lib/python3.10/site-packages/sklearn/cluster/_kmeans.py:1416: FutureWarning: The default value of `n_init` will change from 10 to 'auto' in 1.4. Set the value of `n_init` explicitly to suppress the warning\n",
      "  super()._check_params_vs_input(X, default_n_init=10)\n",
      "/home/danielviegas/PycharmProjects/supermind_ingestor/venv/lib/python3.10/site-packages/sklearn/cluster/_kmeans.py:1416: FutureWarning: The default value of `n_init` will change from 10 to 'auto' in 1.4. Set the value of `n_init` explicitly to suppress the warning\n",
      "  super()._check_params_vs_input(X, default_n_init=10)\n",
      "/home/danielviegas/PycharmProjects/supermind_ingestor/venv/lib/python3.10/site-packages/sklearn/cluster/_kmeans.py:1416: FutureWarning: The default value of `n_init` will change from 10 to 'auto' in 1.4. Set the value of `n_init` explicitly to suppress the warning\n",
      "  super()._check_params_vs_input(X, default_n_init=10)\n"
     ]
    }
   ],
   "source": [
    "wcss = []\n",
    "\n",
    "for i in range(1, 10):\n",
    "    kmeans = KMeans(n_clusters=i, init='k-means++', random_state=42)\n",
    "    kmeans.fit(df_model.drop(['Email de trabalho',  'CPF do locatário'], axis=1))\n",
    "    wcss.append(kmeans.inertia_)"
   ]
  },
  {
   "cell_type": "code",
   "execution_count": 27,
   "id": "2425045220751924",
   "metadata": {
    "collapsed": false,
    "ExecuteTime": {
     "end_time": "2023-11-06T13:43:01.071679430Z",
     "start_time": "2023-11-06T13:43:00.852086938Z"
    }
   },
   "outputs": [
    {
     "data": {
      "text/plain": "[<matplotlib.lines.Line2D at 0x7fa09e2b2c50>]"
     },
     "execution_count": 27,
     "metadata": {},
     "output_type": "execute_result"
    },
    {
     "data": {
      "text/plain": "<Figure size 1000x800 with 1 Axes>",
      "image/png": "[encoded data removed]"
     },
     "metadata": {},
     "output_type": "display_data"
    }
   ],
   "source": [
    "plt.figure(figsize=(10,8))\n",
    "plt.plot(range(1,10), wcss, marker='o')"
   ]
  },
  {
   "cell_type": "code",
   "execution_count": 28,
   "id": "7ca8baf65169d817",
   "metadata": {
    "collapsed": false,
    "ExecuteTime": {
     "end_time": "2023-11-06T13:43:03.386687680Z",
     "start_time": "2023-11-06T13:43:01.073764895Z"
    }
   },
   "outputs": [
    {
     "name": "stderr",
     "output_type": "stream",
     "text": [
      "/home/danielviegas/PycharmProjects/supermind_ingestor/venv/lib/python3.10/site-packages/sklearn/cluster/_kmeans.py:1416: FutureWarning: The default value of `n_init` will change from 10 to 'auto' in 1.4. Set the value of `n_init` explicitly to suppress the warning\n",
      "  super()._check_params_vs_input(X, default_n_init=10)\n"
     ]
    },
    {
     "data": {
      "text/plain": "KMeans(n_clusters=4, random_state=42)",
      "text/html": "<style>#sk-container-id-2 {color: black;}#sk-container-id-2 pre{padding: 0;}#sk-container-id-2 div.sk-toggleable {background-color: white;}#sk-container-id-2 label.sk-toggleable__label {cursor: pointer;display: block;width: 100%;margin-bottom: 0;padding: 0.3em;box-sizing: border-box;text-align: center;}#sk-container-id-2 label.sk-toggleable__label-arrow:before {content: \"▸\";float: left;margin-right: 0.25em;color: #696969;}#sk-container-id-2 label.sk-toggleable__label-arrow:hover:before {color: black;}#sk-container-id-2 div.sk-estimator:hover label.sk-toggleable__label-arrow:before {color: black;}#sk-container-id-2 div.sk-toggleable__content {max-height: 0;max-width: 0;overflow: hidden;text-align: left;background-color: #f0f8ff;}#sk-container-id-2 div.sk-toggleable__content pre {margin: 0.2em;color: black;border-radius: 0.25em;background-color: #f0f8ff;}#sk-container-id-2 input.sk-toggleable__control:checked~div.sk-toggleable__content {max-height: 200px;max-width: 100%;overflow: auto;}#sk-container-id-2 input.sk-toggleable__control:checked~label.sk-toggleable__label-arrow:before {content: \"▾\";}#sk-container-id-2 div.sk-estimator input.sk-toggleable__control:checked~label.sk-toggleable__label {background-color: #d4ebff;}#sk-container-id-2 div.sk-label input.sk-toggleable__control:checked~label.sk-toggleable__label {background-color: #d4ebff;}#sk-container-id-2 input.sk-hidden--visually {border: 0;clip: rect(1px 1px 1px 1px);clip: rect(1px, 1px, 1px, 1px);height: 1px;margin: -1px;overflow: hidden;padding: 0;position: absolute;width: 1px;}#sk-container-id-2 div.sk-estimator {font-family: monospace;background-color: #f0f8ff;border: 1px dotted black;border-radius: 0.25em;box-sizing: border-box;margin-bottom: 0.5em;}#sk-container-id-2 div.sk-estimator:hover {background-color: #d4ebff;}#sk-container-id-2 div.sk-parallel-item::after {content: \"\";width: 100%;border-bottom: 1px solid gray;flex-grow: 1;}#sk-container-id-2 div.sk-label:hover label.sk-toggleable__label {background-color: #d4ebff;}#sk-container-id-2 div.sk-serial::before {content: \"\";position: absolute;border-left: 1px solid gray;box-sizing: border-box;top: 0;bottom: 0;left: 50%;z-index: 0;}#sk-container-id-2 div.sk-serial {display: flex;flex-direction: column;align-items: center;background-color: white;padding-right: 0.2em;padding-left: 0.2em;position: relative;}#sk-container-id-2 div.sk-item {position: relative;z-index: 1;}#sk-container-id-2 div.sk-parallel {display: flex;align-items: stretch;justify-content: center;background-color: white;position: relative;}#sk-container-id-2 div.sk-item::before, #sk-container-id-2 div.sk-parallel-item::before {content: \"\";position: absolute;border-left: 1px solid gray;box-sizing: border-box;top: 0;bottom: 0;left: 50%;z-index: -1;}#sk-container-id-2 div.sk-parallel-item {display: flex;flex-direction: column;z-index: 1;position: relative;background-color: white;}#sk-container-id-2 div.sk-parallel-item:first-child::after {align-self: flex-end;width: 50%;}#sk-container-id-2 div.sk-parallel-item:last-child::after {align-self: flex-start;width: 50%;}#sk-container-id-2 div.sk-parallel-item:only-child::after {width: 0;}#sk-container-id-2 div.sk-dashed-wrapped {border: 1px dashed gray;margin: 0 0.4em 0.5em 0.4em;box-sizing: border-box;padding-bottom: 0.4em;background-color: white;}#sk-container-id-2 div.sk-label label {font-family: monospace;font-weight: bold;display: inline-block;line-height: 1.2em;}#sk-container-id-2 div.sk-label-container {text-align: center;}#sk-container-id-2 div.sk-container {/* jupyter's `normalize.less` sets `[hidden] { display: none; }` but bootstrap.min.css set `[hidden] { display: none !important; }` so we also need the `!important` here to be able to override the default hidden behavior on the sphinx rendered scikit-learn.org. See: https://github.com/scikit-learn/scikit-learn/issues/21755 */display: inline-block !important;position: relative;}#sk-container-id-2 div.sk-text-repr-fallback {display: none;}</style><div id=\"sk-container-id-2\" class=\"sk-top-container\"><div class=\"sk-text-repr-fallback\"><pre>KMeans(n_clusters=4, random_state=42)</pre><b>In a Jupyter environment, please rerun this cell to show the HTML representation or trust the notebook. <br />On GitHub, the HTML representation is unable to render, please try loading this page with nbviewer.org.</b></div><div class=\"sk-container\" hidden><div class=\"sk-item\"><div class=\"sk-estimator sk-toggleable\"><input class=\"sk-toggleable__control sk-hidden--visually\" id=\"sk-estimator-id-2\" type=\"checkbox\" checked><label for=\"sk-estimator-id-2\" class=\"sk-toggleable__label sk-toggleable__label-arrow\">KMeans</label><div class=\"sk-toggleable__content\"><pre>KMeans(n_clusters=4, random_state=42)</pre></div></div></div></div></div>"
     },
     "execution_count": 28,
     "metadata": {},
     "output_type": "execute_result"
    }
   ],
   "source": [
    "kmeans = KMeans(n_clusters=4, init='k-means++', random_state=42)\n",
    "kmeans.fit(df_model.drop(['Email de trabalho',  'CPF do locatário'], axis=1))"
   ]
  },
  {
   "cell_type": "code",
   "execution_count": 29,
   "id": "b1b1db74c7ca0d0c",
   "metadata": {
    "collapsed": false,
    "ExecuteTime": {
     "end_time": "2023-11-06T13:43:03.393106510Z",
     "start_time": "2023-11-06T13:43:03.387310326Z"
    }
   },
   "outputs": [],
   "source": [
    "df_leads['Cluster'] = kmeans.labels_"
   ]
  },
  {
   "cell_type": "code",
   "execution_count": 30,
   "id": "f6dcc6eb5c52bc76",
   "metadata": {
    "collapsed": false,
    "ExecuteTime": {
     "end_time": "2023-11-06T13:43:03.486845188Z",
     "start_time": "2023-11-06T13:43:03.390990757Z"
    }
   },
   "outputs": [],
   "source": [
    "# df_leads.groupby('Cluster').mean()"
   ]
  },
  {
   "cell_type": "code",
   "execution_count": 31,
   "id": "9979814a622b6b13",
   "metadata": {
    "collapsed": false,
    "ExecuteTime": {
     "end_time": "2023-11-06T13:43:07.675219047Z",
     "start_time": "2023-11-06T13:43:03.487077686Z"
    }
   },
   "outputs": [],
   "source": [
    "df_leads.to_csv('terraz_leads_marcados.csv', index=False)"
   ]
  }
 ],
 "metadata": {
  "kernelspec": {
   "display_name": "Python 3 (ipykernel)",
   "language": "python",
   "name": "python3"
  },
  "language_info": {
   "codemirror_mode": {
    "name": "ipython",
    "version": 3
   },
   "file_extension": ".py",
   "mimetype": "text/x-python",
   "name": "python",
   "nbconvert_exporter": "python",
   "pygments_lexer": "ipython3",
   "version": "3.10.12"
  }
 },
 "nbformat": 4,
 "nbformat_minor": 5
}
