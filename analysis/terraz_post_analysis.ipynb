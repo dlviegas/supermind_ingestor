{
 "cells": [
  {
   "cell_type": "code",
   "execution_count": 27,
   "id": "initial_id",
   "metadata": {
    "collapsed": true,
    "ExecuteTime": {
     "end_time": "2023-11-06T14:14:19.193525653Z",
     "start_time": "2023-11-06T14:14:19.010448230Z"
    }
   },
   "outputs": [],
   "source": [
    "import pandas as pd\n",
    "import numpy as np"
   ]
  },
  {
   "cell_type": "code",
   "execution_count": 28,
   "outputs": [
    {
     "name": "stderr",
     "output_type": "stream",
     "text": [
      "/tmp/ipykernel_10818/471679873.py:1: DtypeWarning: Columns (17,29,30,37,38,45,46,48,50,61) have mixed types. Specify dtype option on import or set low_memory=False.\n",
      "  df = pd.read_csv('terraz_leads_marcados.csv')\n"
     ]
    },
    {
     "data": {
      "text/plain": "       ID        Etapa              Nome do Lead             Primeiro nome  \\\n0  642984  Agendamento             Lucas Mazagão             Lucas Mazagão   \n1  642982         Lead    Fernanda Luíza Ferrari    Fernanda Luíza Ferrari   \n2  642980     Desistiu    Fernanda Luíza Ferrari    Fernanda Luíza Ferrari   \n3  642978  Agendamento  Rayssa Scherer Centenaro  Rayssa Scherer Centenaro   \n4  642972  Agendamento           Viviane Pacheco           Viviane Pacheco   \n\n           Fonte Telefone de trabalho             Email de trabalho  \\\n0  Brognoli_init                  NaN                           NaN   \n1        Webpage        5554991509530   ferrari.fernandal@gmail.com   \n2        Webpage        5554991509530   ferrari.fernandal@gmail.com   \n3        Webpage        5547992271499            rah.rc26@gmail.com   \n4  Brognoli_init        5548999081844  vivianepacheco0109@gmail.com   \n\n                      Responsável Criado por        Modificado  ... Brognoli  \\\n0  Brognoli Negócios Imobiliários     Humano  30/12/2022 09:35  ...        0   \n1  Brognoli Negócios Imobiliários     Humano  31/12/2021 20:27  ...        1   \n2  Brognoli Negócios Imobiliários     Humano  06/01/2022 08:24  ...        1   \n3  Brognoli Negócios Imobiliários     Humano  30/12/2022 09:34  ...        0   \n4  Brognoli Negócios Imobiliários     Humano  30/12/2022 09:34  ...        1   \n\n  Terraz  Comercial Missing.1 Moradia Autumn Spring Summer Winter Cluster  \n0      1          0         0       1      0      0      0      1       0  \n1      0          0         1       0      0      0      0      1       0  \n2      0          0         1       0      0      0      0      1       0  \n3      1          0         0       1      0      0      0      1       0  \n4      0          0         0       1      0      0      0      1       0  \n\n[5 rows x 87 columns]",
      "text/html": "<div>\n<style scoped>\n    .dataframe tbody tr th:only-of-type {\n        vertical-align: middle;\n    }\n\n    .dataframe tbody tr th {\n        vertical-align: top;\n    }\n\n    .dataframe thead th {\n        text-align: right;\n    }\n</style>\n<table border=\"1\" class=\"dataframe\">\n  <thead>\n    <tr style=\"text-align: right;\">\n      <th></th>\n      <th>ID</th>\n      <th>Etapa</th>\n      <th>Nome do Lead</th>\n      <th>Primeiro nome</th>\n      <th>Fonte</th>\n      <th>Telefone de trabalho</th>\n      <th>Email de trabalho</th>\n      <th>Responsável</th>\n      <th>Criado por</th>\n      <th>Modificado</th>\n      <th>...</th>\n      <th>Brognoli</th>\n      <th>Terraz</th>\n      <th>Comercial</th>\n      <th>Missing.1</th>\n      <th>Moradia</th>\n      <th>Autumn</th>\n      <th>Spring</th>\n      <th>Summer</th>\n      <th>Winter</th>\n      <th>Cluster</th>\n    </tr>\n  </thead>\n  <tbody>\n    <tr>\n      <th>0</th>\n      <td>642984</td>\n      <td>Agendamento</td>\n      <td>Lucas Mazagão</td>\n      <td>Lucas Mazagão</td>\n      <td>Brognoli_init</td>\n      <td>NaN</td>\n      <td>NaN</td>\n      <td>Brognoli Negócios Imobiliários</td>\n      <td>Humano</td>\n      <td>30/12/2022 09:35</td>\n      <td>...</td>\n      <td>0</td>\n      <td>1</td>\n      <td>0</td>\n      <td>0</td>\n      <td>1</td>\n      <td>0</td>\n      <td>0</td>\n      <td>0</td>\n      <td>1</td>\n      <td>0</td>\n    </tr>\n    <tr>\n      <th>1</th>\n      <td>642982</td>\n      <td>Lead</td>\n      <td>Fernanda Luíza Ferrari</td>\n      <td>Fernanda Luíza Ferrari</td>\n      <td>Webpage</td>\n      <td>5554991509530</td>\n      <td>ferrari.fernandal@gmail.com</td>\n      <td>Brognoli Negócios Imobiliários</td>\n      <td>Humano</td>\n      <td>31/12/2021 20:27</td>\n      <td>...</td>\n      <td>1</td>\n      <td>0</td>\n      <td>0</td>\n      <td>1</td>\n      <td>0</td>\n      <td>0</td>\n      <td>0</td>\n      <td>0</td>\n      <td>1</td>\n      <td>0</td>\n    </tr>\n    <tr>\n      <th>2</th>\n      <td>642980</td>\n      <td>Desistiu</td>\n      <td>Fernanda Luíza Ferrari</td>\n      <td>Fernanda Luíza Ferrari</td>\n      <td>Webpage</td>\n      <td>5554991509530</td>\n      <td>ferrari.fernandal@gmail.com</td>\n      <td>Brognoli Negócios Imobiliários</td>\n      <td>Humano</td>\n      <td>06/01/2022 08:24</td>\n      <td>...</td>\n      <td>1</td>\n      <td>0</td>\n      <td>0</td>\n      <td>1</td>\n      <td>0</td>\n      <td>0</td>\n      <td>0</td>\n      <td>0</td>\n      <td>1</td>\n      <td>0</td>\n    </tr>\n    <tr>\n      <th>3</th>\n      <td>642978</td>\n      <td>Agendamento</td>\n      <td>Rayssa Scherer Centenaro</td>\n      <td>Rayssa Scherer Centenaro</td>\n      <td>Webpage</td>\n      <td>5547992271499</td>\n      <td>rah.rc26@gmail.com</td>\n      <td>Brognoli Negócios Imobiliários</td>\n      <td>Humano</td>\n      <td>30/12/2022 09:34</td>\n      <td>...</td>\n      <td>0</td>\n      <td>1</td>\n      <td>0</td>\n      <td>0</td>\n      <td>1</td>\n      <td>0</td>\n      <td>0</td>\n      <td>0</td>\n      <td>1</td>\n      <td>0</td>\n    </tr>\n    <tr>\n      <th>4</th>\n      <td>642972</td>\n      <td>Agendamento</td>\n      <td>Viviane Pacheco</td>\n      <td>Viviane Pacheco</td>\n      <td>Brognoli_init</td>\n      <td>5548999081844</td>\n      <td>vivianepacheco0109@gmail.com</td>\n      <td>Brognoli Negócios Imobiliários</td>\n      <td>Humano</td>\n      <td>30/12/2022 09:34</td>\n      <td>...</td>\n      <td>1</td>\n      <td>0</td>\n      <td>0</td>\n      <td>0</td>\n      <td>1</td>\n      <td>0</td>\n      <td>0</td>\n      <td>0</td>\n      <td>1</td>\n      <td>0</td>\n    </tr>\n  </tbody>\n</table>\n<p>5 rows × 87 columns</p>\n</div>"
     },
     "execution_count": 28,
     "metadata": {},
     "output_type": "execute_result"
    }
   ],
   "source": [
    "df = pd.read_csv('terraz_leads_marcados.csv')\n",
    "df.head()"
   ],
   "metadata": {
    "collapsed": false,
    "ExecuteTime": {
     "end_time": "2023-11-06T14:14:20.988274375Z",
     "start_time": "2023-11-06T14:14:19.053480814Z"
    }
   },
   "id": "7b224cc0d82e221e"
  },
  {
   "cell_type": "code",
   "execution_count": 29,
   "outputs": [],
   "source": [
    "df['Data e hora da visita'] = pd.to_datetime(df['Data e hora da visita'], format='%d/%m/%Y %H:%M', errors='coerce')\n",
    "df['dia'] = df['Data e hora da visita'].dt.day\n",
    "df['mes'] = df['Data e hora da visita'].dt.month\n",
    "df['ano'] = df['Data e hora da visita'].dt.year\n",
    "df['dia_da_semana'] = df['Data e hora da visita'].dt.day_of_week\n",
    "\n",
    "season = (df['Data e hora da visita'].dt.month % 12 + 3) // 3\n",
    "\n",
    "seasons = {\n",
    "    1: 'Winter',\n",
    "    2: 'Spring',\n",
    "    3: 'Summer',\n",
    "    4: 'Autumn'\n",
    "}\n",
    "\n",
    "df['season'] = season.map(seasons)\n",
    "df['hora_visita'] = df['Data e hora da visita'].dt.hour\n",
    "df['minuto_visita'] = df['Data e hora da visita'].dt.minute"
   ],
   "metadata": {
    "collapsed": false,
    "ExecuteTime": {
     "end_time": "2023-11-06T14:14:21.172950762Z",
     "start_time": "2023-11-06T14:14:20.983887292Z"
    }
   },
   "id": "1793ca1c22ba07a2"
  },
  {
   "cell_type": "code",
   "execution_count": 30,
   "outputs": [],
   "source": [
    "num_cols = ['Total', 'dia', 'mes', 'ano', 'dia_da_semana', 'hora_visita', 'minuto_visita', 'visited', 'desistiu',\n",
    "            'criado_dias', 'Agendamento', 'Atendimento SDR', 'Desistiu', 'Lead', 'Solicitação de Visita', 'Brognoli_init', 'Webpage',\n",
    "            'Bot.1', 'Agência', 'Blip', 'Chamada', 'Missing', 'Woliver', 'Brognoli', 'Terraz', 'Comercial', 'Missing.1',\n",
    "            'Moradia', 'Autumn', 'Spring', 'Summer', 'Winter', 'Cluster']\n",
    "final_cols = ['Email de trabalho', 'CPF do locatário'] + num_cols"
   ],
   "metadata": {
    "collapsed": false,
    "ExecuteTime": {
     "end_time": "2023-11-06T14:14:21.173602922Z",
     "start_time": "2023-11-06T14:14:21.025167184Z"
    }
   },
   "id": "7e56d75c3a13a261"
  },
  {
   "cell_type": "code",
   "execution_count": 31,
   "outputs": [],
   "source": [
    "df_avg = df[num_cols].groupby('Cluster').mean()\n",
    "df_avg.columns = [f'avg_{x}' for x in df_avg.columns]"
   ],
   "metadata": {
    "collapsed": false,
    "ExecuteTime": {
     "end_time": "2023-11-06T14:14:21.247331797Z",
     "start_time": "2023-11-06T14:14:21.100491174Z"
    }
   },
   "id": "aeb2ab4dbb8f761e"
  },
  {
   "cell_type": "code",
   "execution_count": 32,
   "outputs": [],
   "source": [
    "df_sd = df[num_cols].groupby('Cluster').std()\n",
    "df_sd.columns = [f'sd_{x}' for x in df_sd.columns]"
   ],
   "metadata": {
    "collapsed": false,
    "ExecuteTime": {
     "end_time": "2023-11-06T14:14:21.297967893Z",
     "start_time": "2023-11-06T14:14:21.202132978Z"
    }
   },
   "id": "378171f898fe7bef"
  },
  {
   "cell_type": "code",
   "execution_count": 33,
   "outputs": [],
   "source": [
    "df_sum = df[num_cols].groupby('Cluster').sum()\n",
    "df_sum.columns = [f'sum_{x}' for x in df_sum.columns]"
   ],
   "metadata": {
    "collapsed": false,
    "ExecuteTime": {
     "end_time": "2023-11-06T14:14:21.413130845Z",
     "start_time": "2023-11-06T14:14:21.269350355Z"
    }
   },
   "id": "71ad257f239102d3"
  },
  {
   "cell_type": "code",
   "execution_count": 34,
   "outputs": [],
   "source": [
    "df_metrics = df_avg.merge(df_sd, on='Cluster').\\\n",
    "    merge(df_sum, on='Cluster')"
   ],
   "metadata": {
    "collapsed": false,
    "ExecuteTime": {
     "end_time": "2023-11-06T14:14:21.413456390Z",
     "start_time": "2023-11-06T14:14:21.355616948Z"
    }
   },
   "id": "c6fbf19aae0b9279"
  },
  {
   "cell_type": "code",
   "execution_count": 35,
   "outputs": [],
   "source": [
    "with pd.ExcelWriter('Leads Marcados.xlsx') as writer:\n",
    "    df[final_cols].to_excel(writer, sheet_name='Dados Brutos')\n",
    "    df_metrics.to_excel(writer, sheet_name='Metricas')"
   ],
   "metadata": {
    "collapsed": false,
    "ExecuteTime": {
     "end_time": "2023-11-06T14:16:06.085255855Z",
     "start_time": "2023-11-06T14:14:21.403019855Z"
    }
   },
   "id": "e79b05a96b9af633"
  },
  {
   "cell_type": "code",
   "execution_count": 35,
   "outputs": [],
   "source": [],
   "metadata": {
    "collapsed": false,
    "ExecuteTime": {
     "end_time": "2023-11-06T14:16:06.085436352Z",
     "start_time": "2023-11-06T14:16:06.085099867Z"
    }
   },
   "id": "d6c6bee1d3988e31"
  }
 ],
 "metadata": {
  "kernelspec": {
   "display_name": "Python 3",
   "language": "python",
   "name": "python3"
  },
  "language_info": {
   "codemirror_mode": {
    "name": "ipython",
    "version": 2
   },
   "file_extension": ".py",
   "mimetype": "text/x-python",
   "name": "python",
   "nbconvert_exporter": "python",
   "pygments_lexer": "ipython2",
   "version": "2.7.6"
  }
 },
 "nbformat": 4,
 "nbformat_minor": 5
}
