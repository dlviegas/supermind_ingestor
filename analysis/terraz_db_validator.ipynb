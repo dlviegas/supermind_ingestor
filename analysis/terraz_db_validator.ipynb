{
 "cells": [
  {
   "cell_type": "code",
   "execution_count": 1,
   "id": "initial_id",
   "metadata": {
    "collapsed": true,
    "jupyter": {
     "outputs_hidden": true
    },
    "ExecuteTime": {
     "end_time": "2023-11-06T13:24:47.147097029Z",
     "start_time": "2023-11-06T13:24:47.134246352Z"
    }
   },
   "outputs": [],
   "source": [
    "import pandas as pd\n",
    "\n",
    "from core.db.Terraz import TerrazDB\n",
    "from terraz_ingestor import TerrazIngestor"
   ]
  },
  {
   "cell_type": "markdown",
   "id": "d1ab32944fb20be6",
   "metadata": {
    "collapsed": false
   },
   "source": [
    "# Análise de qualidade do Banco de Dados\n",
    "\n",
    "Esse relatório tem como objetivo analisar os dados presentes no banco de dados da Terraz disponibilizado e também o arquivo com os leads e informações dos clientes e negócios.\n",
    "\n",
    "## Inicializando DB"
   ]
  },
  {
   "cell_type": "code",
   "execution_count": 11,
   "id": "8515bc18b52796a7",
   "metadata": {
    "ExecuteTime": {
     "end_time": "2023-11-03T14:44:54.441376588Z",
     "start_time": "2023-11-03T14:44:54.318428189Z"
    },
    "collapsed": false
   },
   "outputs": [],
   "source": [
    "terraz = TerrazDB()"
   ]
  },
  {
   "cell_type": "markdown",
   "id": "238df12cec8c3189",
   "metadata": {
    "collapsed": false
   },
   "source": [
    "## Verificando porcentagem de nulos por tabela disponibilizada\n",
    "\n",
    "### public.terraz_contacts"
   ]
  },
  {
   "cell_type": "code",
   "execution_count": 12,
   "id": "a818fd7bc4b35583",
   "metadata": {
    "ExecuteTime": {
     "end_time": "2023-11-03T14:45:02.707398352Z",
     "start_time": "2023-11-03T14:44:54.441261274Z"
    },
    "collapsed": false
   },
   "outputs": [
    {
     "data": {
      "text/html": [
       "<div>\n",
       "<style scoped>\n",
       "    .dataframe tbody tr th:only-of-type {\n",
       "        vertical-align: middle;\n",
       "    }\n",
       "\n",
       "    .dataframe tbody tr th {\n",
       "        vertical-align: top;\n",
       "    }\n",
       "\n",
       "    .dataframe thead th {\n",
       "        text-align: right;\n",
       "    }\n",
       "</style>\n",
       "<table border=\"1\" class=\"dataframe\">\n",
       "  <thead>\n",
       "    <tr style=\"text-align: right;\">\n",
       "      <th></th>\n",
       "      <th>column</th>\n",
       "      <th>null_values</th>\n",
       "    </tr>\n",
       "  </thead>\n",
       "  <tbody>\n",
       "    <tr>\n",
       "      <th>0</th>\n",
       "      <td>ADDRESS</td>\n",
       "      <td>99.92</td>\n",
       "    </tr>\n",
       "    <tr>\n",
       "      <th>1</th>\n",
       "      <td>ADDRESS_2</td>\n",
       "      <td>100.00</td>\n",
       "    </tr>\n",
       "    <tr>\n",
       "      <th>2</th>\n",
       "      <td>ADDRESS_CITY</td>\n",
       "      <td>100.00</td>\n",
       "    </tr>\n",
       "    <tr>\n",
       "      <th>3</th>\n",
       "      <td>ADDRESS_COUNTRY</td>\n",
       "      <td>100.00</td>\n",
       "    </tr>\n",
       "    <tr>\n",
       "      <th>4</th>\n",
       "      <td>ADDRESS_COUNTRY_CODE</td>\n",
       "      <td>100.00</td>\n",
       "    </tr>\n",
       "    <tr>\n",
       "      <th>...</th>\n",
       "      <td>...</td>\n",
       "      <td>...</td>\n",
       "    </tr>\n",
       "    <tr>\n",
       "      <th>166</th>\n",
       "      <td>UTM_CONTENT</td>\n",
       "      <td>99.90</td>\n",
       "    </tr>\n",
       "    <tr>\n",
       "      <th>167</th>\n",
       "      <td>UTM_MEDIUM</td>\n",
       "      <td>99.82</td>\n",
       "    </tr>\n",
       "    <tr>\n",
       "      <th>168</th>\n",
       "      <td>UTM_SOURCE</td>\n",
       "      <td>99.82</td>\n",
       "    </tr>\n",
       "    <tr>\n",
       "      <th>169</th>\n",
       "      <td>UTM_TERM</td>\n",
       "      <td>99.90</td>\n",
       "    </tr>\n",
       "    <tr>\n",
       "      <th>170</th>\n",
       "      <td>WEB</td>\n",
       "      <td>100.00</td>\n",
       "    </tr>\n",
       "  </tbody>\n",
       "</table>\n",
       "<p>171 rows × 2 columns</p>\n",
       "</div>"
      ],
      "text/plain": [
       "                   column null_values\n",
       "0                 ADDRESS       99.92\n",
       "1               ADDRESS_2      100.00\n",
       "2            ADDRESS_CITY      100.00\n",
       "3         ADDRESS_COUNTRY      100.00\n",
       "4    ADDRESS_COUNTRY_CODE      100.00\n",
       "..                    ...         ...\n",
       "166           UTM_CONTENT       99.90\n",
       "167            UTM_MEDIUM       99.82\n",
       "168            UTM_SOURCE       99.82\n",
       "169              UTM_TERM       99.90\n",
       "170                   WEB      100.00\n",
       "\n",
       "[171 rows x 2 columns]"
      ]
     },
     "execution_count": 12,
     "metadata": {},
     "output_type": "execute_result"
    }
   ],
   "source": [
    "query_str = \"\"\"\n",
    "select key as column, round(avg(case when value is null then 1 else 0 end)*100, 2) as null_values\n",
    "from terraz_contacts t\n",
    "cross join jsonb_each_text(to_jsonb(t))\n",
    "group by key;\n",
    "\"\"\"\n",
    "\n",
    "terraz.query_to_pandas(query_str)"
   ]
  },
  {
   "cell_type": "markdown",
   "id": "1b2ea3fa01cfd6a3",
   "metadata": {
    "collapsed": false
   },
   "source": [
    "### public.terraz_leads"
   ]
  },
  {
   "cell_type": "code",
   "execution_count": null,
   "id": "6a04d36751e55cee",
   "metadata": {
    "collapsed": false
   },
   "outputs": [],
   "source": [
    "query_str = \"\"\"\n",
    "select key as column, round(avg(case when value is null then 1 else 0 end)*100, 2) as null_values\n",
    "from terraz_leads t\n",
    "cross join jsonb_each_text(to_jsonb(t))\n",
    "group by key;\n",
    "\"\"\"\n",
    "\n",
    "terraz.query_to_pandas(query_str)"
   ]
  },
  {
   "cell_type": "markdown",
   "id": "ae22815e02d89ac4",
   "metadata": {
    "collapsed": false
   },
   "source": [
    "### terraz_bitrix.deals"
   ]
  },
  {
   "cell_type": "code",
   "execution_count": 14,
   "id": "ad2a9dd0b6b87423",
   "metadata": {
    "ExecuteTime": {
     "end_time": "2023-11-03T14:47:14.963985125Z",
     "start_time": "2023-11-03T14:45:30.549242655Z"
    },
    "collapsed": false
   },
   "outputs": [
    {
     "data": {
      "text/html": [
       "<div>\n",
       "<style scoped>\n",
       "    .dataframe tbody tr th:only-of-type {\n",
       "        vertical-align: middle;\n",
       "    }\n",
       "\n",
       "    .dataframe tbody tr th {\n",
       "        vertical-align: top;\n",
       "    }\n",
       "\n",
       "    .dataframe thead th {\n",
       "        text-align: right;\n",
       "    }\n",
       "</style>\n",
       "<table border=\"1\" class=\"dataframe\">\n",
       "  <thead>\n",
       "    <tr style=\"text-align: right;\">\n",
       "      <th></th>\n",
       "      <th>column</th>\n",
       "      <th>null_values</th>\n",
       "    </tr>\n",
       "  </thead>\n",
       "  <tbody>\n",
       "    <tr>\n",
       "      <th>0</th>\n",
       "      <td>ADDITIONAL_INFO</td>\n",
       "      <td>99.87</td>\n",
       "    </tr>\n",
       "    <tr>\n",
       "      <th>1</th>\n",
       "      <td>ASSIGNED_BY_ID</td>\n",
       "      <td>0.00</td>\n",
       "    </tr>\n",
       "    <tr>\n",
       "      <th>2</th>\n",
       "      <td>BEGINDATE</td>\n",
       "      <td>0.00</td>\n",
       "    </tr>\n",
       "    <tr>\n",
       "      <th>3</th>\n",
       "      <td>CATEGORY_ID</td>\n",
       "      <td>0.00</td>\n",
       "    </tr>\n",
       "    <tr>\n",
       "      <th>4</th>\n",
       "      <td>CLOSED</td>\n",
       "      <td>0.00</td>\n",
       "    </tr>\n",
       "    <tr>\n",
       "      <th>...</th>\n",
       "      <td>...</td>\n",
       "      <td>...</td>\n",
       "    </tr>\n",
       "    <tr>\n",
       "      <th>885</th>\n",
       "      <td>UTM_CAMPAIGN</td>\n",
       "      <td>98.93</td>\n",
       "    </tr>\n",
       "    <tr>\n",
       "      <th>886</th>\n",
       "      <td>UTM_CONTENT</td>\n",
       "      <td>99.08</td>\n",
       "    </tr>\n",
       "    <tr>\n",
       "      <th>887</th>\n",
       "      <td>UTM_MEDIUM</td>\n",
       "      <td>98.92</td>\n",
       "    </tr>\n",
       "    <tr>\n",
       "      <th>888</th>\n",
       "      <td>UTM_SOURCE</td>\n",
       "      <td>98.92</td>\n",
       "    </tr>\n",
       "    <tr>\n",
       "      <th>889</th>\n",
       "      <td>UTM_TERM</td>\n",
       "      <td>99.05</td>\n",
       "    </tr>\n",
       "  </tbody>\n",
       "</table>\n",
       "<p>890 rows × 2 columns</p>\n",
       "</div>"
      ],
      "text/plain": [
       "              column null_values\n",
       "0    ADDITIONAL_INFO       99.87\n",
       "1     ASSIGNED_BY_ID        0.00\n",
       "2          BEGINDATE        0.00\n",
       "3        CATEGORY_ID        0.00\n",
       "4             CLOSED        0.00\n",
       "..               ...         ...\n",
       "885     UTM_CAMPAIGN       98.93\n",
       "886      UTM_CONTENT       99.08\n",
       "887       UTM_MEDIUM       98.92\n",
       "888       UTM_SOURCE       98.92\n",
       "889         UTM_TERM       99.05\n",
       "\n",
       "[890 rows x 2 columns]"
      ]
     },
     "execution_count": 14,
     "metadata": {},
     "output_type": "execute_result"
    }
   ],
   "source": [
    "query_str = \"\"\"\n",
    "select key as column, round(avg(case when value is null then 1 else 0 end)*100, 2) as null_values\n",
    "from terraz_bitrix.deals t\n",
    "cross join jsonb_each_text(to_jsonb(t))\n",
    "group by key;\n",
    "\"\"\"\n",
    "\n",
    "terraz.query_to_pandas(query_str)"
   ]
  },
  {
   "cell_type": "markdown",
   "id": "5a7255d7086b4f62",
   "metadata": {
    "collapsed": false
   },
   "source": [
    "### terraz_bitrix.contacts"
   ]
  },
  {
   "cell_type": "code",
   "execution_count": 15,
   "id": "2fc36e326b878225",
   "metadata": {
    "ExecuteTime": {
     "end_time": "2023-11-03T14:47:21.525180977Z",
     "start_time": "2023-11-03T14:47:14.865246083Z"
    },
    "collapsed": false
   },
   "outputs": [
    {
     "data": {
      "text/html": [
       "<div>\n",
       "<style scoped>\n",
       "    .dataframe tbody tr th:only-of-type {\n",
       "        vertical-align: middle;\n",
       "    }\n",
       "\n",
       "    .dataframe tbody tr th {\n",
       "        vertical-align: top;\n",
       "    }\n",
       "\n",
       "    .dataframe thead th {\n",
       "        text-align: right;\n",
       "    }\n",
       "</style>\n",
       "<table border=\"1\" class=\"dataframe\">\n",
       "  <thead>\n",
       "    <tr style=\"text-align: right;\">\n",
       "      <th></th>\n",
       "      <th>column</th>\n",
       "      <th>null_values</th>\n",
       "    </tr>\n",
       "  </thead>\n",
       "  <tbody>\n",
       "    <tr>\n",
       "      <th>0</th>\n",
       "      <td>ADDRESS</td>\n",
       "      <td>99.86</td>\n",
       "    </tr>\n",
       "    <tr>\n",
       "      <th>1</th>\n",
       "      <td>ADDRESS_2</td>\n",
       "      <td>99.94</td>\n",
       "    </tr>\n",
       "    <tr>\n",
       "      <th>2</th>\n",
       "      <td>ADDRESS_CITY</td>\n",
       "      <td>99.94</td>\n",
       "    </tr>\n",
       "    <tr>\n",
       "      <th>3</th>\n",
       "      <td>ADDRESS_COUNTRY</td>\n",
       "      <td>99.94</td>\n",
       "    </tr>\n",
       "    <tr>\n",
       "      <th>4</th>\n",
       "      <td>ADDRESS_COUNTRY_CODE</td>\n",
       "      <td>100.00</td>\n",
       "    </tr>\n",
       "    <tr>\n",
       "      <th>...</th>\n",
       "      <td>...</td>\n",
       "      <td>...</td>\n",
       "    </tr>\n",
       "    <tr>\n",
       "      <th>162</th>\n",
       "      <td>UTM_CONTENT</td>\n",
       "      <td>99.85</td>\n",
       "    </tr>\n",
       "    <tr>\n",
       "      <th>163</th>\n",
       "      <td>UTM_MEDIUM</td>\n",
       "      <td>99.76</td>\n",
       "    </tr>\n",
       "    <tr>\n",
       "      <th>164</th>\n",
       "      <td>UTM_SOURCE</td>\n",
       "      <td>99.76</td>\n",
       "    </tr>\n",
       "    <tr>\n",
       "      <th>165</th>\n",
       "      <td>UTM_TERM</td>\n",
       "      <td>99.84</td>\n",
       "    </tr>\n",
       "    <tr>\n",
       "      <th>166</th>\n",
       "      <td>WEB</td>\n",
       "      <td>100.00</td>\n",
       "    </tr>\n",
       "  </tbody>\n",
       "</table>\n",
       "<p>167 rows × 2 columns</p>\n",
       "</div>"
      ],
      "text/plain": [
       "                   column null_values\n",
       "0                 ADDRESS       99.86\n",
       "1               ADDRESS_2       99.94\n",
       "2            ADDRESS_CITY       99.94\n",
       "3         ADDRESS_COUNTRY       99.94\n",
       "4    ADDRESS_COUNTRY_CODE      100.00\n",
       "..                    ...         ...\n",
       "162           UTM_CONTENT       99.85\n",
       "163            UTM_MEDIUM       99.76\n",
       "164            UTM_SOURCE       99.76\n",
       "165              UTM_TERM       99.84\n",
       "166                   WEB      100.00\n",
       "\n",
       "[167 rows x 2 columns]"
      ]
     },
     "execution_count": 15,
     "metadata": {},
     "output_type": "execute_result"
    }
   ],
   "source": [
    "query_str = \"\"\"\n",
    "select key as column, round(avg(case when value is null then 1 else 0 end)*100, 2) as null_values\n",
    "from terraz_bitrix.contacts t\n",
    "cross join jsonb_each_text(to_jsonb(t))\n",
    "group by key;\n",
    "\"\"\"\n",
    "\n",
    "terraz.query_to_pandas(query_str)"
   ]
  },
  {
   "cell_type": "markdown",
   "id": "641ad44849a0a91b",
   "metadata": {
    "collapsed": false
   },
   "source": [
    "Como é possível observar, a quantidade de valores nulos são bem elevadas e os nomes de variáveis são pouco auto explicativos, dificultando o uso desse banco de dados em um primeiro momento.\n",
    "\n",
    "## Arquivos enviados por Google Drive"
   ]
  },
  {
   "cell_type": "code",
   "execution_count": 2,
   "id": "369f9f967987f28",
   "metadata": {
    "collapsed": false,
    "ExecuteTime": {
     "end_time": "2023-11-06T13:25:12.312382718Z",
     "start_time": "2023-11-06T13:24:51.612992595Z"
    }
   },
   "outputs": [
    {
     "name": "stderr",
     "output_type": "stream",
     "text": [
      "/home/danielviegas/PycharmProjects/supermind_ingestor/terraz_ingestor.py:29: ParserWarning: Falling back to the 'python' engine because the 'c' engine does not support regex separators (separators > 1 char and different from '\\s+' are interpreted as regex); you can avoid this warning by specifying engine='python'.\n",
      "  df = pd.read_csv(file_bytes, sep=r'\\t', encoding='latin-1', on_bad_lines='skip')\n",
      "/home/danielviegas/PycharmProjects/supermind_ingestor/terraz_ingestor.py:29: ParserWarning: Falling back to the 'python' engine because the 'c' engine does not support regex separators (separators > 1 char and different from '\\s+' are interpreted as regex); you can avoid this warning by specifying engine='python'.\n",
      "  df = pd.read_csv(file_bytes, sep=r'\\t', encoding='latin-1', on_bad_lines='skip')\n",
      "/home/danielviegas/PycharmProjects/supermind_ingestor/terraz_ingestor.py:29: ParserWarning: Falling back to the 'python' engine because the 'c' engine does not support regex separators (separators > 1 char and different from '\\s+' are interpreted as regex); you can avoid this warning by specifying engine='python'.\n",
      "  df = pd.read_csv(file_bytes, sep=r'\\t', encoding='latin-1', on_bad_lines='skip')\n"
     ]
    },
    {
     "data": {
      "text/plain": "ID                                                         0.000000\nEtapa                                                      0.000000\nNome do Lead                                               0.004994\nSaudação                                                  99.999773\nPrimeiro nome                                              8.668866\n                                                            ...    \nEmpresa CRM                                               63.308961\nÚltima atualização em                                      6.622870\nCriação de deal                                           99.991601\nModelos                                                  100.000000\nTerraz - Preencher campo 'imobiliária' / Qualificação     56.847945\nLength: 139, dtype: float64"
     },
     "execution_count": 2,
     "metadata": {},
     "output_type": "execute_result"
    }
   ],
   "source": [
    "terraz_ing = TerrazIngestor()\n",
    "leads_df = terraz_ing.main(False, False)\n",
    "leads_df.isna().mean() * 100"
   ]
  },
  {
   "cell_type": "markdown",
   "id": "b48cbd10c3fb16f3",
   "metadata": {
    "collapsed": false
   },
   "source": [
    "## Gerando amostra\n",
    "\n",
    "Primeiro removemos as variáveis com menos de 10% de dados disponíveis."
   ]
  },
  {
   "cell_type": "code",
   "execution_count": 3,
   "id": "99b896386eef1a55",
   "metadata": {
    "collapsed": false,
    "ExecuteTime": {
     "end_time": "2023-11-06T13:25:13.629749122Z",
     "start_time": "2023-11-06T13:25:12.313101271Z"
    }
   },
   "outputs": [
    {
     "data": {
      "text/plain": "((440519, 139), (171254, 53))"
     },
     "execution_count": 3,
     "metadata": {},
     "output_type": "execute_result"
    }
   ],
   "source": [
    "leads_df1 = terraz_ing.missing_cleaner(leads_df)\n",
    "leads_df1 = leads_df1[leads_df1['Total'] > 0]\n",
    "# leads_df1 = leads_df1[leads_df1['Lead repetido'] == 'N']\n",
    "# leads_df1 = leads_df1[~leads_df1['Canal [!]'].isna()]\n",
    "leads_df.shape, leads_df1.shape"
   ]
  },
  {
   "cell_type": "code",
   "execution_count": 13,
   "outputs": [
    {
     "data": {
      "text/plain": "ID                                                       0.000000\nEtapa                                                    0.000000\nNome do Lead                                             0.000029\nPrimeiro nome                                            0.025126\nCriado                                                   0.000000\nFonte                                                    0.000654\nTelefone de trabalho                                     0.087753\nEmail de trabalho                                        0.001857\nResponsável                                              0.000000\nCriado por                                               0.000000\nModificado                                               0.000000\nModificado por                                           0.000000\nComentário                                               0.854608\nTotal                                                    0.000000\nMoeda                                                    0.000000\nLead repetido                                            0.000000\nImobiliária: Geradora do lead [!]                        0.000035\nCanal [!]                                                0.668965\nImobiliária [!]                                          0.226850\nCPF do locatário [!]                                     0.700562\nMotivo de descarte [!]                                   0.503860\nObservação [!]                                           0.519462\nE-mail do locatário [!]                                  0.714523\nTelefone do locatário [!]                                0.716888\nNome do locatário [!]                                    0.713887\nID do Lead [!]                                           0.713881\nPré-vendedor [!]                                         0.721840\nData e hora da visita [!]                                0.702751\nLink da conversa Blip [!]                                0.651909\nCategoria Imovel [!]                                     0.201531\nCódigo do imóvel [!]                                     0.000455\nTipo Imovel [!]                                          0.199616\nAgências Link [!]                                        0.050650\nLogradouro [!]                                           0.139868\nNº do Imóvel [!]                                         0.140084\nCEP [!]                                                  0.139868\nBairro [!]                                               0.131279\nCidade [!]                                               0.131273\nNome do condominio [!]                                   0.403605\nNº do Apartamento [!]                                    0.271883\nBloco [!]                                                0.646472\nData e Hora - BOT: Sem resposta [!]                      0.535263\nData e Hora - BOT: Sem agendamento [!]                   0.669106\nData e Hora - Atendimento SDR [!]                        0.828728\nData e Hora - Solicitação de Visita [!]                  0.713204\nData e Hora - Desistiu [!]                               0.478628\nSales [!]                                                0.845942\nQualificação realizada [!]                               0.237139\nTratamento de dados                                      0.599741\nID Imobiliária                                           0.244193\nEmpresa CRM                                              0.244240\nÚltima atualização em                                    0.000000\nTerraz - Preencher campo 'imobiliária' / Qualificação    0.242219\ndtype: float64"
     },
     "execution_count": 13,
     "metadata": {},
     "output_type": "execute_result"
    }
   ],
   "source": [
    "leads_df1.isna().mean()"
   ],
   "metadata": {
    "collapsed": false,
    "ExecuteTime": {
     "end_time": "2023-11-03T18:49:44.298621305Z",
     "start_time": "2023-11-03T18:49:43.996169853Z"
    }
   },
   "id": "cedd6336cc3b127d"
  },
  {
   "cell_type": "code",
   "execution_count": 4,
   "outputs": [],
   "source": [
    "leads_df1['visited'] = leads_df1['Data e hora da visita [!]'].apply(lambda x: 1 if pd.isna(x) else 0)\n",
    "leads_df1['desistiu'] = leads_df1['Data e Hora - Desistiu [!]'].apply(lambda x: 1 if pd.isna(x) else 0)"
   ],
   "metadata": {
    "collapsed": false,
    "ExecuteTime": {
     "end_time": "2023-11-06T13:25:13.819219456Z",
     "start_time": "2023-11-06T13:25:13.683057445Z"
    }
   },
   "id": "66c7c547a6526657"
  },
  {
   "cell_type": "markdown",
   "id": "1223586c8ef98367",
   "metadata": {
    "collapsed": false
   },
   "source": [
    "Após isso, transformamos as variáveis categóricas em variáveis indicadoras com cada categoria disponível. Além disso, as variáveis de data são separadas em seus períodos, como dia, mes, ano, hora, minuto, período do dia e estação do ano. Para a localidade está sendo disponibilizado o CEP3."
   ]
  },
  {
   "cell_type": "code",
   "execution_count": 9,
   "id": "6658effcc8ee8b8f",
   "metadata": {
    "collapsed": false,
    "ExecuteTime": {
     "end_time": "2023-11-06T13:34:31.495990313Z",
     "start_time": "2023-11-06T13:34:30.567981906Z"
    }
   },
   "outputs": [
    {
     "name": "stderr",
     "output_type": "stream",
     "text": [
      "/home/danielviegas/PycharmProjects/supermind_ingestor/terraz_ingestor.py:48: SettingWithCopyWarning: \n",
      "A value is trying to be set on a copy of a slice from a DataFrame.\n",
      "Try using .loc[row_indexer,col_indexer] = value instead\n",
      "\n",
      "See the caveats in the documentation: https://pandas.pydata.org/pandas-docs/stable/user_guide/indexing.html#returning-a-view-versus-a-copy\n",
      "  df_final['Criado'] = pd.to_datetime(df_final['Criado'], format='%d/%m/%Y %H:%M', errors='coerce')\n",
      "/home/danielviegas/PycharmProjects/supermind_ingestor/terraz_ingestor.py:49: SettingWithCopyWarning: \n",
      "A value is trying to be set on a copy of a slice from a DataFrame.\n",
      "Try using .loc[row_indexer,col_indexer] = value instead\n",
      "\n",
      "See the caveats in the documentation: https://pandas.pydata.org/pandas-docs/stable/user_guide/indexing.html#returning-a-view-versus-a-copy\n",
      "  df_final['dia'] = df_final['Criado'].dt.day\n",
      "/home/danielviegas/PycharmProjects/supermind_ingestor/terraz_ingestor.py:50: SettingWithCopyWarning: \n",
      "A value is trying to be set on a copy of a slice from a DataFrame.\n",
      "Try using .loc[row_indexer,col_indexer] = value instead\n",
      "\n",
      "See the caveats in the documentation: https://pandas.pydata.org/pandas-docs/stable/user_guide/indexing.html#returning-a-view-versus-a-copy\n",
      "  df_final['mes'] = df_final['Criado'].dt.month\n",
      "/home/danielviegas/PycharmProjects/supermind_ingestor/terraz_ingestor.py:51: SettingWithCopyWarning: \n",
      "A value is trying to be set on a copy of a slice from a DataFrame.\n",
      "Try using .loc[row_indexer,col_indexer] = value instead\n",
      "\n",
      "See the caveats in the documentation: https://pandas.pydata.org/pandas-docs/stable/user_guide/indexing.html#returning-a-view-versus-a-copy\n",
      "  df_final['ano'] = df_final['Criado'].dt.year\n",
      "/home/danielviegas/PycharmProjects/supermind_ingestor/terraz_ingestor.py:52: SettingWithCopyWarning: \n",
      "A value is trying to be set on a copy of a slice from a DataFrame.\n",
      "Try using .loc[row_indexer,col_indexer] = value instead\n",
      "\n",
      "See the caveats in the documentation: https://pandas.pydata.org/pandas-docs/stable/user_guide/indexing.html#returning-a-view-versus-a-copy\n",
      "  df_final['dia_da_semana'] = df_final['Criado'].dt.day_of_week\n",
      "/home/danielviegas/PycharmProjects/supermind_ingestor/terraz_ingestor.py:63: SettingWithCopyWarning: \n",
      "A value is trying to be set on a copy of a slice from a DataFrame.\n",
      "Try using .loc[row_indexer,col_indexer] = value instead\n",
      "\n",
      "See the caveats in the documentation: https://pandas.pydata.org/pandas-docs/stable/user_guide/indexing.html#returning-a-view-versus-a-copy\n",
      "  df_final['season'] = season.map(seasons)\n",
      "/home/danielviegas/PycharmProjects/supermind_ingestor/terraz_ingestor.py:64: SettingWithCopyWarning: \n",
      "A value is trying to be set on a copy of a slice from a DataFrame.\n",
      "Try using .loc[row_indexer,col_indexer] = value instead\n",
      "\n",
      "See the caveats in the documentation: https://pandas.pydata.org/pandas-docs/stable/user_guide/indexing.html#returning-a-view-versus-a-copy\n",
      "  df_final['hora_visita'] = df_final['Criado'].dt.hour\n",
      "/home/danielviegas/PycharmProjects/supermind_ingestor/terraz_ingestor.py:65: SettingWithCopyWarning: \n",
      "A value is trying to be set on a copy of a slice from a DataFrame.\n",
      "Try using .loc[row_indexer,col_indexer] = value instead\n",
      "\n",
      "See the caveats in the documentation: https://pandas.pydata.org/pandas-docs/stable/user_guide/indexing.html#returning-a-view-versus-a-copy\n",
      "  df_final['minuto_visita'] = df_final['Criado'].dt.minute\n",
      "/home/danielviegas/PycharmProjects/supermind_ingestor/terraz_ingestor.py:66: SettingWithCopyWarning: \n",
      "A value is trying to be set on a copy of a slice from a DataFrame.\n",
      "Try using .loc[row_indexer,col_indexer] = value instead\n",
      "\n",
      "See the caveats in the documentation: https://pandas.pydata.org/pandas-docs/stable/user_guide/indexing.html#returning-a-view-versus-a-copy\n",
      "  df_final['periodo_visita'] = df_final['hora_visita'].apply(periodo_do_dia)\n",
      "/home/danielviegas/PycharmProjects/supermind_ingestor/terraz_ingestor.py:70: SettingWithCopyWarning: \n",
      "A value is trying to be set on a copy of a slice from a DataFrame.\n",
      "Try using .loc[row_indexer,col_indexer] = value instead\n",
      "\n",
      "See the caveats in the documentation: https://pandas.pydata.org/pandas-docs/stable/user_guide/indexing.html#returning-a-view-versus-a-copy\n",
      "  df_final['cep3'] = df_final['CEP'].apply(lambda x: str(x)[:3])\n"
     ]
    }
   ],
   "source": [
    "# leads_df2 = leads_df1[usable_cols]\n",
    "leads_df2 = terraz_ing.column_names_fixer(leads_df1)\n",
    "leads_df2 = terraz_ing.eng_vars(leads_df2)"
   ]
  },
  {
   "cell_type": "code",
   "execution_count": 10,
   "outputs": [
    {
     "data": {
      "text/plain": "(171166, 65)"
     },
     "execution_count": 10,
     "metadata": {},
     "output_type": "execute_result"
    }
   ],
   "source": [
    "leads_df2.shape"
   ],
   "metadata": {
    "collapsed": false,
    "ExecuteTime": {
     "end_time": "2023-11-06T13:34:34.770199884Z",
     "start_time": "2023-11-06T13:34:34.764277300Z"
    }
   },
   "id": "83c57e33e8da6a35"
  },
  {
   "cell_type": "code",
   "execution_count": 12,
   "id": "e8fbea2b69fb8fff",
   "metadata": {
    "collapsed": false,
    "ExecuteTime": {
     "end_time": "2023-11-03T19:10:49.381558025Z",
     "start_time": "2023-11-03T19:10:49.334341074Z"
    }
   },
   "outputs": [
    {
     "data": {
      "text/plain": "4       Campanha de marketing\n5                   Imovelweb\n6                   Imovelweb\n7                   Grupo Zap\n10    Reconhecimento da marca\nName: Fonte, dtype: object"
     },
     "execution_count": 12,
     "metadata": {},
     "output_type": "execute_result"
    }
   ],
   "source": [
    "leads_df2.head()"
   ]
  },
  {
   "cell_type": "code",
   "execution_count": 11,
   "outputs": [
    {
     "name": "stderr",
     "output_type": "stream",
     "text": [
      "/tmp/ipykernel_9709/3170910646.py:1: SettingWithCopyWarning: \n",
      "A value is trying to be set on a copy of a slice from a DataFrame.\n",
      "Try using .loc[row_indexer,col_indexer] = value instead\n",
      "\n",
      "See the caveats in the documentation: https://pandas.pydata.org/pandas-docs/stable/user_guide/indexing.html#returning-a-view-versus-a-copy\n",
      "  leads_df2['Fonte'] = leads_df2['Fonte'].fillna('Missing')\n",
      "/tmp/ipykernel_9709/3170910646.py:2: SettingWithCopyWarning: \n",
      "A value is trying to be set on a copy of a slice from a DataFrame.\n",
      "Try using .loc[row_indexer,col_indexer] = value instead\n",
      "\n",
      "See the caveats in the documentation: https://pandas.pydata.org/pandas-docs/stable/user_guide/indexing.html#returning-a-view-versus-a-copy\n",
      "  leads_df2['Categoria Imovel'] = leads_df2['Categoria Imovel'].fillna('Missing')\n",
      "/tmp/ipykernel_9709/3170910646.py:3: SettingWithCopyWarning: \n",
      "A value is trying to be set on a copy of a slice from a DataFrame.\n",
      "Try using .loc[row_indexer,col_indexer] = value instead\n",
      "\n",
      "See the caveats in the documentation: https://pandas.pydata.org/pandas-docs/stable/user_guide/indexing.html#returning-a-view-versus-a-copy\n",
      "  leads_df2['Canal'] = leads_df2['Canal'].fillna('Missing')\n",
      "/tmp/ipykernel_9709/3170910646.py:5: SettingWithCopyWarning: \n",
      "A value is trying to be set on a copy of a slice from a DataFrame\n",
      "\n",
      "See the caveats in the documentation: https://pandas.pydata.org/pandas-docs/stable/user_guide/indexing.html#returning-a-view-versus-a-copy\n",
      "  leads_df2.drop(['periodo_visita', 'CEP'], axis=1, inplace=True)\n"
     ]
    },
    {
     "data": {
      "text/plain": "ID                  0\nEtapa               0\nNome do Lead        5\nPrimeiro nome    4301\nCriado              0\n                 ... \ndia_da_semana       0\nseason              0\nhora_visita         0\nminuto_visita       0\ncep3                0\nLength: 63, dtype: int64"
     },
     "execution_count": 11,
     "metadata": {},
     "output_type": "execute_result"
    }
   ],
   "source": [
    "\n",
    "leads_df2['Fonte'] = leads_df2['Fonte'].fillna('Missing')\n",
    "leads_df2['Categoria Imovel'] = leads_df2['Categoria Imovel'].fillna('Missing')\n",
    "leads_df2['Canal'] = leads_df2['Canal'].fillna('Missing')\n",
    "\n",
    "leads_df2.drop(['periodo_visita', 'CEP'], axis=1, inplace=True)\n",
    "leads_df2.isna().sum()"
   ],
   "metadata": {
    "collapsed": false,
    "ExecuteTime": {
     "end_time": "2023-11-06T13:34:44.474069262Z",
     "start_time": "2023-11-06T13:34:44.035383334Z"
    }
   },
   "id": "bb91eeeec26d6b1e"
  },
  {
   "cell_type": "code",
   "execution_count": 12,
   "id": "df8ac0fc151dc596",
   "metadata": {
    "collapsed": false,
    "ExecuteTime": {
     "end_time": "2023-11-06T13:34:58.478572088Z",
     "start_time": "2023-11-06T13:34:54.256367735Z"
    }
   },
   "outputs": [],
   "source": [
    "leads_df2.to_csv('../data/terraz/processed_leads/leads.csv', index=False)"
   ]
  }
 ],
 "metadata": {
  "kernelspec": {
   "display_name": "Python 3 (ipykernel)",
   "language": "python",
   "name": "python3"
  },
  "language_info": {
   "codemirror_mode": {
    "name": "ipython",
    "version": 3
   },
   "file_extension": ".py",
   "mimetype": "text/x-python",
   "name": "python",
   "nbconvert_exporter": "python",
   "pygments_lexer": "ipython3",
   "version": "3.10.12"
  }
 },
 "nbformat": 4,
 "nbformat_minor": 5
}
